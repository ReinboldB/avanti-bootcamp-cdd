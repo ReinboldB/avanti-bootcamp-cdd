{
 "cells": [
  {
   "cell_type": "markdown",
   "id": "63ebf842-4d04-46fb-8a60-e37540daad5f",
   "metadata": {},
   "source": [
    "# Análise Comparativa de Dados"
   ]
  },
  {
   "cell_type": "code",
   "execution_count": 31,
   "id": "55515a4c-e5c3-46b6-925b-15e68abec6d9",
   "metadata": {},
   "outputs": [],
   "source": [
    "from IPython.display import display, Markdown\n",
    "import joblib\n",
    "import numpy as np\n",
    "import pandas as pd\n",
    "\n",
    "from sklearn.experimental import enable_iterative_imputer  # Necessário para habilitar o IterativeImputer\n",
    "from sklearn.pipeline import Pipeline\n",
    "from sklearn.impute import SimpleImputer, IterativeImputer\n",
    "from sklearn.preprocessing import OneHotEncoder, StandardScaler\n",
    "from sklearn.compose import ColumnTransformer\n",
    "from sklearn.linear_model import LinearRegression\n",
    "\n",
    "import seaborn as sns\n",
    "import matplotlib.pyplot as plt"
   ]
  },
  {
   "cell_type": "markdown",
   "id": "fd6aea8c-4e0a-4e05-9d36-466ae16327bf",
   "metadata": {},
   "source": [
    "## 1. Obtenção dos Dados"
   ]
  },
  {
   "cell_type": "code",
   "execution_count": 4,
   "id": "73c487ac-c965-4955-888f-8ab0c7855697",
   "metadata": {},
   "outputs": [
    {
     "data": {
      "text/html": [
       "<div>\n",
       "<style scoped>\n",
       "    .dataframe tbody tr th:only-of-type {\n",
       "        vertical-align: middle;\n",
       "    }\n",
       "\n",
       "    .dataframe tbody tr th {\n",
       "        vertical-align: top;\n",
       "    }\n",
       "\n",
       "    .dataframe thead th {\n",
       "        text-align: right;\n",
       "    }\n",
       "</style>\n",
       "<table border=\"1\" class=\"dataframe\">\n",
       "  <thead>\n",
       "    <tr style=\"text-align: right;\">\n",
       "      <th></th>\n",
       "      <th>variavel</th>\n",
       "      <th>descricao</th>\n",
       "      <th>tipo</th>\n",
       "      <th>subtipo</th>\n",
       "    </tr>\n",
       "  </thead>\n",
       "  <tbody>\n",
       "    <tr>\n",
       "      <th>0</th>\n",
       "      <td>total_bill</td>\n",
       "      <td>Valor total da conta</td>\n",
       "      <td>Quantitativa</td>\n",
       "      <td>Contínua</td>\n",
       "    </tr>\n",
       "    <tr>\n",
       "      <th>1</th>\n",
       "      <td>tip</td>\n",
       "      <td>Valor da gorjeta</td>\n",
       "      <td>Quantitativa</td>\n",
       "      <td>Contínua</td>\n",
       "    </tr>\n",
       "    <tr>\n",
       "      <th>2</th>\n",
       "      <td>sex</td>\n",
       "      <td>Gênero do cliente pagante (Male = Masculino, F...</td>\n",
       "      <td>Qualitativa</td>\n",
       "      <td>Nominal</td>\n",
       "    </tr>\n",
       "    <tr>\n",
       "      <th>3</th>\n",
       "      <td>smoker</td>\n",
       "      <td>Informa se algum cliente da mesa é fumante (Ye...</td>\n",
       "      <td>Qualitativa</td>\n",
       "      <td>Nominal</td>\n",
       "    </tr>\n",
       "    <tr>\n",
       "      <th>4</th>\n",
       "      <td>day</td>\n",
       "      <td>Dia da semana em que ocorreu o serviço</td>\n",
       "      <td>Qualitativa</td>\n",
       "      <td>Nominal</td>\n",
       "    </tr>\n",
       "    <tr>\n",
       "      <th>5</th>\n",
       "      <td>time</td>\n",
       "      <td>Horário em que ocorreu o serviço (Lunch = Almo...</td>\n",
       "      <td>Qualitativa</td>\n",
       "      <td>Nominal</td>\n",
       "    </tr>\n",
       "    <tr>\n",
       "      <th>6</th>\n",
       "      <td>size</td>\n",
       "      <td>Quantidade de pessoas na mesa (1-6)</td>\n",
       "      <td>Quantitativa</td>\n",
       "      <td>Discreta</td>\n",
       "    </tr>\n",
       "  </tbody>\n",
       "</table>\n",
       "</div>"
      ],
      "text/plain": [
       "     variavel                                          descricao  \\\n",
       "0  total_bill                               Valor total da conta   \n",
       "1         tip                                   Valor da gorjeta   \n",
       "2         sex  Gênero do cliente pagante (Male = Masculino, F...   \n",
       "3      smoker  Informa se algum cliente da mesa é fumante (Ye...   \n",
       "4         day             Dia da semana em que ocorreu o serviço   \n",
       "5        time  Horário em que ocorreu o serviço (Lunch = Almo...   \n",
       "6        size                Quantidade de pessoas na mesa (1-6)   \n",
       "\n",
       "           tipo   subtipo  \n",
       "0  Quantitativa  Contínua  \n",
       "1  Quantitativa  Contínua  \n",
       "2   Qualitativa   Nominal  \n",
       "3   Qualitativa   Nominal  \n",
       "4   Qualitativa   Nominal  \n",
       "5   Qualitativa   Nominal  \n",
       "6  Quantitativa  Discreta  "
      ]
     },
     "execution_count": 4,
     "metadata": {},
     "output_type": "execute_result"
    }
   ],
   "source": [
    "df = pd.read_csv(\"../data/raw/data.csv\")\n",
    "df_dict = pd.read_csv(\"../data/external/dictionary.csv\")\n",
    "df_dict"
   ]
  },
  {
   "cell_type": "markdown",
   "id": "c95c7d52-1248-47d3-afb7-a690d39098f9",
   "metadata": {},
   "source": [
    "## 2. Preparação de Dados"
   ]
  },
  {
   "cell_type": "code",
   "execution_count": 6,
   "id": "0ebf47fb-0b87-4eae-9bee-b57e956f8e5b",
   "metadata": {},
   "outputs": [
    {
     "name": "stdout",
     "output_type": "stream",
     "text": [
      "['Sun' 'Sat' 'Thur' 'Fri']\n"
     ]
    }
   ],
   "source": [
    "print(df['day'].unique())"
   ]
  },
  {
   "cell_type": "code",
   "execution_count": 43,
   "id": "ae03f718-5948-48a7-b7c6-00701f12b007",
   "metadata": {},
   "outputs": [],
   "source": [
    "target_column = 'tip' #que queremos prever\n",
    "\n",
    "#lista de variáveis nominais\n",
    "nominal_columns = (\n",
    "    df_dict\n",
    "    .query(\"subtipo == 'Nominal'\")\n",
    "    .variavel\n",
    "    .to_list()\n",
    ")\n",
    "\n",
    "#lista de variáveis continuas\n",
    "continuous_columns = (\n",
    "    df_dict\n",
    "    .query(\"subtipo == 'Contínua' and variavel != @target_column\")\n",
    "    .variavel\n",
    "    .to_list()\n",
    ")\n",
    "\n",
    "discreet_columns = (\n",
    "    df_dict\n",
    "    .query(\"subtipo == 'Discreta'\")\n",
    "    .variavel\n",
    "    .to_list()\n",
    ")\n",
    "\n",
    "x = df.drop(columns=[target_column], axis=1)\n",
    "y = df[target_column]"
   ]
  },
  {
   "cell_type": "code",
   "execution_count": 45,
   "id": "98ab0394-2e3d-475e-a667-b6b842a34730",
   "metadata": {},
   "outputs": [],
   "source": [
    "#tratamento de dados discrepantes e possíveis dados faltantes \n",
    "\n",
    "nominal_preprocessor = Pipeline([\n",
    "    ('missing', SimpleImputer(strategy='most_frequent')), # tratamento de dados faltantes\n",
    "    ('encoding', OneHotEncoder(sparse_output=False, drop='first')), # codificação de variáveis\n",
    "    ('normalization', StandardScaler()) # normalização de dados\n",
    "])\n",
    "\n",
    "continuous_preprocessor = Pipeline([\n",
    "    ('missing', IterativeImputer(estimator=LinearRegression())), #tratamento de dados faltantes\n",
    "    ('normalization', StandardScaler()) # normalização de dados\n",
    "])\n",
    "\n",
    "\n",
    "discreet_preprocessor = Pipeline([\n",
    "    ('missing', IterativeImputer(estimator=LinearRegression())), # tratamento de dados faltantes\n",
    "    ('normalization', StandardScaler()) # normalização de dados\n",
    "])\n",
    "\n",
    "preprocessor = ColumnTransformer([\n",
    "    ('nominal', nominal_preprocessor, nominal_columns),\n",
    "    ('continuous', continuous_preprocessor, continuous_columns),\n",
    "    ('discreet', discreet_preprocessor, discreet_columns)\n",
    "])"
   ]
  },
  {
   "cell_type": "code",
   "execution_count": null,
   "id": "16740145-1122-4e3f-a103-719f4e44f0f4",
   "metadata": {},
   "outputs": [],
   "source": []
  }
 ],
 "metadata": {
  "kernelspec": {
   "display_name": "Python 3 (ipykernel)",
   "language": "python",
   "name": "python3"
  },
  "language_info": {
   "codemirror_mode": {
    "name": "ipython",
    "version": 3
   },
   "file_extension": ".py",
   "mimetype": "text/x-python",
   "name": "python",
   "nbconvert_exporter": "python",
   "pygments_lexer": "ipython3",
   "version": "3.11.7"
  }
 },
 "nbformat": 4,
 "nbformat_minor": 5
}
