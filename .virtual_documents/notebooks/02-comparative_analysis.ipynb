


from IPython.display import display, Markdown
import joblib
import numpy as np
import pandas as pd

import seaborn as sns
import matplotlib.pyplot as plt





df = pd.read_csv("../data/raw/data.csv")
df_dict = pd.read_csv("../data/external/dictionary.csv")
df_dict





print(df['day'].unique())


target_column = 'tip' #que queremos prever

#lista de variáveis nominais
nominal_columns = (
    df_dict
    .query("subtipo == 'Nominal'")
    .variavel
    .to_list()
)

#lista de variáveis continuas
continuous_columns = (
    df_dict
    .query("subtipo == 'Contínua' and variavel != @target_column")
    .variavel
    .to_list()
)

discreet_columns = (
    df_dict
    .query("subtipo == 'Discreta'")
    .variavel
    .to_list()
)
x = df.drop(columns=[target_column], axis=1)
y = df[target_column]


#tratamento de dados discrepantes e possíveis dados faltantes 
nominal_preprocessor = Pipeline([
    ('missing', SimpleImputer(strategy='most_frequent')), # tratamento de dados faltantes
    ('encoding', OneHotEncoder(sparse_output=False, drop='first')), # codificação de variáveis
    ('normalization', StandardScaler()) # normalização de dados
])

continuous_preprocessor = Pipeline([
    ('missing', IterativeImputer(estimator=LinearRegression())), #tratamento de dados faltantes
    ('normalization', StandardScaler()) # normalização de dados
])

discreet_preprocessor = Pipeline([
    ('missing', IterativeImputer(estimator=LinearRegression())), # tratamento de dados faltantes
    ('normalization', StandardScaler()) # normalização de dados
])

preprocessor = ColumnTransformer([
    ('nominal', nominal_preprocessor, nominal_columns),
    ('continuous', continuous_preprocessor, continuous_columns),
    ('discreet', discreet_preprocessor, discreet_columns)
])



