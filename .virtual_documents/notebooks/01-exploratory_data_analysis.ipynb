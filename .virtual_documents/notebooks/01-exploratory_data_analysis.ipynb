


import pandas as pd
import numpy as np
import seaborn as sns





#importando o conjunto de dados
df =pd.read_csv('../data/raw/data.csv')
df.head()











dicionario = pd.read_csv("../data/external/dictionary.csv")
dicionario


df.isnull().sum()





#informacões básicas
df.info() 

































